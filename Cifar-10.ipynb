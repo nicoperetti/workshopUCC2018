{
 "cells": [
  {
   "cell_type": "code",
   "execution_count": 1,
   "metadata": {},
   "outputs": [
    {
     "name": "stderr",
     "output_type": "stream",
     "text": [
      "Using TensorFlow backend.\n"
     ]
    }
   ],
   "source": [
    "import os\n",
    "import pandas as pd\n",
    "import numpy as np\n",
    "import cv2\n",
    "import matplotlib.pyplot as plt\n",
    "import matplotlib.image as mpimg\n",
    "import seaborn as sns\n",
    "%matplotlib inline\n",
    "\n",
    "np.random.seed(2)\n",
    "\n",
    "from sklearn.model_selection import train_test_split\n",
    "from sklearn.metrics import confusion_matrix, accuracy_score, f1_score, precision_score, recall_score\n",
    "import itertools\n",
    "\n",
    "from keras.utils.np_utils import to_categorical # convert to one-hot-encoding\n",
    "from keras.models import Sequential\n",
    "from keras.layers import Dense, Dropout, Flatten, Conv2D, MaxPool2D\n",
    "from keras.optimizers import RMSprop\n",
    "from keras.preprocessing.image import ImageDataGenerator\n",
    "from keras.callbacks import ReduceLROnPlateau\n",
    "from keras.datasets import cifar10\n",
    "\n",
    "sns.set(style='white', context='notebook', palette='deep')"
   ]
  },
  {
   "cell_type": "markdown",
   "metadata": {},
   "source": [
    "# Data preparation"
   ]
  },
  {
   "cell_type": "code",
   "execution_count": 2,
   "metadata": {},
   "outputs": [],
   "source": [
    "train = pd.read_csv(\"cifar-10/trainLabels.csv\")"
   ]
  },
  {
   "cell_type": "code",
   "execution_count": 3,
   "metadata": {},
   "outputs": [
    {
     "data": {
      "text/html": [
       "<div>\n",
       "<style scoped>\n",
       "    .dataframe tbody tr th:only-of-type {\n",
       "        vertical-align: middle;\n",
       "    }\n",
       "\n",
       "    .dataframe tbody tr th {\n",
       "        vertical-align: top;\n",
       "    }\n",
       "\n",
       "    .dataframe thead th {\n",
       "        text-align: right;\n",
       "    }\n",
       "</style>\n",
       "<table border=\"1\" class=\"dataframe\">\n",
       "  <thead>\n",
       "    <tr style=\"text-align: right;\">\n",
       "      <th></th>\n",
       "      <th>id</th>\n",
       "      <th>label</th>\n",
       "    </tr>\n",
       "  </thead>\n",
       "  <tbody>\n",
       "    <tr>\n",
       "      <th>0</th>\n",
       "      <td>1</td>\n",
       "      <td>frog</td>\n",
       "    </tr>\n",
       "    <tr>\n",
       "      <th>1</th>\n",
       "      <td>2</td>\n",
       "      <td>truck</td>\n",
       "    </tr>\n",
       "    <tr>\n",
       "      <th>2</th>\n",
       "      <td>3</td>\n",
       "      <td>truck</td>\n",
       "    </tr>\n",
       "    <tr>\n",
       "      <th>3</th>\n",
       "      <td>4</td>\n",
       "      <td>deer</td>\n",
       "    </tr>\n",
       "    <tr>\n",
       "      <th>4</th>\n",
       "      <td>5</td>\n",
       "      <td>automobile</td>\n",
       "    </tr>\n",
       "  </tbody>\n",
       "</table>\n",
       "</div>"
      ],
      "text/plain": [
       "   id       label\n",
       "0   1        frog\n",
       "1   2       truck\n",
       "2   3       truck\n",
       "3   4        deer\n",
       "4   5  automobile"
      ]
     },
     "execution_count": 3,
     "metadata": {},
     "output_type": "execute_result"
    }
   ],
   "source": [
    "train.head()"
   ]
  },
  {
   "cell_type": "code",
   "execution_count": 4,
   "metadata": {
    "scrolled": true
   },
   "outputs": [
    {
     "name": "stdout",
     "output_type": "stream",
     "text": [
      "Training samples (50000,)\n",
      "Training labels (50000,)\n"
     ]
    }
   ],
   "source": [
    "X = train[\"id\"]\n",
    "Y = train[\"label\"]\n",
    "print(\"Training samples {}\".format(X.shape))\n",
    "print(\"Training labels {}\".format(X.shape))"
   ]
  },
  {
   "cell_type": "code",
   "execution_count": 5,
   "metadata": {},
   "outputs": [
    {
     "data": {
      "text/plain": [
       "frog          5000\n",
       "cat           5000\n",
       "ship          5000\n",
       "bird          5000\n",
       "automobile    5000\n",
       "airplane      5000\n",
       "dog           5000\n",
       "horse         5000\n",
       "deer          5000\n",
       "truck         5000\n",
       "Name: label, dtype: int64"
      ]
     },
     "execution_count": 5,
     "metadata": {},
     "output_type": "execute_result"
    }
   ],
   "source": [
    "Y.value_counts()"
   ]
  },
  {
   "cell_type": "code",
   "execution_count": 6,
   "metadata": {
    "scrolled": true
   },
   "outputs": [
    {
     "data": {
      "image/png": "[encoded data removed]",
      "text/plain": [
       "<Figure size 432x288 with 1 Axes>"
      ]
     },
     "metadata": {},
     "output_type": "display_data"
    }
   ],
   "source": [
    "g = sns.countplot(Y)"
   ]
  },
  {
   "cell_type": "code",
   "execution_count": 7,
   "metadata": {},
   "outputs": [],
   "source": [
    "(x_train, y_train), (x_test, y_test) = cifar10.load_data()\n",
    "X_train = x_train.astype('float32')\n",
    "X_test = x_test.astype('float32')"
   ]
  },
  {
   "cell_type": "markdown",
   "metadata": {},
   "source": [
    "## Examples"
   ]
  },
  {
   "cell_type": "code",
   "execution_count": 8,
   "metadata": {},
   "outputs": [
    {
     "data": {
      "text/plain": [
       "<matplotlib.image.AxesImage at 0x7fc0d65fa358>"
      ]
     },
     "execution_count": 8,
     "metadata": {},
     "output_type": "execute_result"
    },
    {
     "data": {
      "image/png": "[encoded data removed]",
      "text/plain": [
       "<Figure size 432x288 with 4 Axes>"
      ]
     },
     "metadata": {},
     "output_type": "display_data"
    }
   ],
   "source": [
    "# Some examples\n",
    "f, axarr = plt.subplots(2,2)\n",
    "axarr[0,0].imshow(X_train[0]/ 255.0)\n",
    "axarr[0,1].imshow(X_train[1]/ 255.0)\n",
    "axarr[1,0].imshow(X_train[2]/ 255.0)\n",
    "axarr[1,1].imshow(X_train[3]/ 255.0)"
   ]
  },
  {
   "cell_type": "markdown",
   "metadata": {},
   "source": [
    "## Functions"
   ]
  },
  {
   "cell_type": "code",
   "execution_count": 9,
   "metadata": {},
   "outputs": [],
   "source": [
    "def load_data():\n",
    "    (x_train, y_train), (x_test, y_test) = cifar10.load_data()\n",
    "    X_train = x_train.astype('float32')\n",
    "    X_test = x_test.astype('float32')\n",
    "    return X_train, y_train, X_test, y_test"
   ]
  },
  {
   "cell_type": "code",
   "execution_count": 10,
   "metadata": {},
   "outputs": [],
   "source": [
    "def labelencoding(y_train, y_val, y_test, nb_classes):\n",
    "    Y_val = to_categorical(y_val, num_classes = nb_classes)\n",
    "    Y_test = to_categorical(y_test, num_classes = nb_classes)\n",
    "    Y_train = to_categorical(y_train.reshape(-1, 1), num_classes = nb_classes)\n",
    "    return Y_train, Y_val, Y_test"
   ]
  },
  {
   "cell_type": "code",
   "execution_count": 11,
   "metadata": {},
   "outputs": [],
   "source": [
    "def split_dataset(X_train, Y_train, reduce_dataset):\n",
    "\n",
    "    # Set the random seed\n",
    "    random_seed = 2\n",
    "\n",
    "    if reduce_dataset:\n",
    "        # 500 images per class\n",
    "        X = []\n",
    "        Y = []\n",
    "        for i in range(CLASSES):\n",
    "            idxs = np.where(Y_train.reshape(1,-1)[0] == i)[0]\n",
    "            idx_ = list(np.random.choice(idxs, 500, replace=False))\n",
    "            Y += idx_\n",
    "\n",
    "        Y_train = Y_train[Y]\n",
    "        X_train = X_train[Y]\n",
    "\n",
    "    X_train, X_val, Y_train, Y_val = train_test_split(X_train, Y_train, test_size = 0.2, random_state=random_seed)\n",
    "    \n",
    "    return X_train, X_val, Y_train, Y_val"
   ]
  },
  {
   "cell_type": "code",
   "execution_count": 12,
   "metadata": {},
   "outputs": [],
   "source": [
    "def getOptimizer():\n",
    "    # Define the optimizer\n",
    "    optimizer = RMSprop(lr=0.001, rho=0.9, epsilon=1e-08, decay=0.0)\n",
    "    return optimizer"
   ]
  },
  {
   "cell_type": "code",
   "execution_count": 13,
   "metadata": {},
   "outputs": [],
   "source": [
    "def plot_loss_acc(history):\n",
    "    fig, ax = plt.subplots(2,1)\n",
    "    ax[0].plot(history.history['loss'], color='b', label=\"Training loss\")\n",
    "    ax[0].plot(history.history['val_loss'], color='r', label=\"validation loss\",axes =ax[0])\n",
    "    legend = ax[0].legend(loc='best', shadow=True)\n",
    "\n",
    "    ax[1].plot(history.history['acc'], color='b', label=\"Training accuracy\")\n",
    "    ax[1].plot(history.history['val_acc'], color='r',label=\"Validation accuracy\")\n",
    "    legend = ax[1].legend(loc='best', shadow=True)\n",
    "    plt.savefig('learningCurves.png')"
   ]
  },
  {
   "cell_type": "code",
   "execution_count": 14,
   "metadata": {},
   "outputs": [],
   "source": [
    "def resize_images(X_train, resize_image):\n",
    "    X = []\n",
    "    for img in X_train:\n",
    "        img_r = cv2.resize(img, (resize_image, resize_image))\n",
    "        X.append(img_r)\n",
    "    return np.array(X)"
   ]
  },
  {
   "cell_type": "code",
   "execution_count": 15,
   "metadata": {},
   "outputs": [],
   "source": [
    "def train(reduce_dataset, model_mode, resize_image=None):\n",
    "\n",
    "    X_train, Y_train, X_test, Y_test = load_data()\n",
    "    \n",
    "    X_train, X_val, Y_train, Y_val = split_dataset(X_train, Y_train, reduce_dataset)\n",
    "\n",
    "    Y_train, Y_val, Y_test = labelencoding(Y_train, Y_val, Y_test, CLASSES)\n",
    "    \n",
    "    if resize_image != None:\n",
    "        X_train = resize_images(X_train, resize_image)\n",
    "        X_val = resize_images(X_val, resize_image)\n",
    "\n",
    "    print(\"Training images: {}\".format(X_train.shape))\n",
    "    print(\"Training labels: {}\".format(Y_train.shape))\n",
    "    print(\"Validation images: {}\".format(X_val.shape))\n",
    "    print(\"Validation labels: {}\".format(Y_val.shape))\n",
    "    print(\"Testing images: {}\".format(X_test.shape))\n",
    "    print(\"Testing labels: {}\".format(Y_test.shape))\n",
    "\n",
    "    \n",
    "    # mode must be one of the following options \"ad-hoc\" or \"InceptionV3\" \n",
    "    # model = getModel(mode=\"ad-hoc\")\n",
    "    model = getModel(mode=model_mode)\n",
    "\n",
    "    print(model.summary())\n",
    "\n",
    "    optimizer = getOptimizer()\n",
    "\n",
    "    # Compile the model\n",
    "    model.compile(optimizer = optimizer , loss = \"categorical_crossentropy\", metrics=[\"accuracy\"])\n",
    "\n",
    "    # Set a learning rate annealer\n",
    "    learning_rate_reduction = ReduceLROnPlateau(monitor='val_acc', \n",
    "                                            patience=3, \n",
    "                                            verbose=1, \n",
    "                                            factor=0.5, \n",
    "                                            min_lr=0.00001)\n",
    "    \n",
    "    os.makedirs(\"weights\", exist_ok=True)\n",
    "    checkPoint = ModelCheckpoint(\"weights/weights.{epoch:02d}-{val_acc:.2f}.hdf5\", monitor='val_acc', save_weights_only=True)\n",
    "    \n",
    "    \n",
    "\n",
    "    datagen_train = ImageDataGenerator(rescale=1./255)\n",
    "    datagen_val = ImageDataGenerator(rescale=1./255)\n",
    "\n",
    "    history = model.fit_generator(datagen_train.flow(X_train,Y_train, batch_size=BATCH_SIZE),\n",
    "                              epochs = EPOCHS,\n",
    "                              validation_data = datagen_val.flow(X_val, Y_val, batch_size=BATCH_SIZE),\n",
    "                              steps_per_epoch = X_train.shape[0] // BATCH_SIZE,\n",
    "                              validation_steps = X_val.shape[0] // BATCH_SIZE,\n",
    "                              callbacks=[learning_rate_reduction, checkPoint])\n",
    "    \n",
    "    print(history.history)\n",
    "    plot_loss_acc(history)"
   ]
  },
  {
   "cell_type": "code",
   "execution_count": 16,
   "metadata": {},
   "outputs": [],
   "source": [
    "def test(resize_image, weights_path, model_mode):\n",
    "    X_train, Y_train, X_test, Y_true = load_data()\n",
    "    if resize_image != None:\n",
    "        X_test = resize_images(X_test, resize_image)\n",
    "\n",
    "    #model = getModel(mode=\"InceptionV3\")\n",
    "    model = getModel(mode=model_mode)\n",
    "\n",
    "    model.load_weights(weights_path)\n",
    "\n",
    "    Y_true = Y_true.reshape(1,-1)[0]\n",
    "    print(Y_true.shape)\n",
    "    \n",
    "    datagen_test = ImageDataGenerator(rescale=1./255)\n",
    "    Y_pred = model.predict_generator(datagen_test.flow(X_test))\n",
    "    Y_pred = np.argmax(Y_pred, axis=1)\n",
    "    print(Y_pred.shape)\n",
    "\n",
    "    print(\"Accuracy: {}\".format(accuracy_score(Y_true, Y_pred)))\n",
    "    print(\"Recall: {}\".format(recall_score(Y_true, Y_pred, average=None)))\n",
    "    print(\"Precision: {}\".format(precision_score(Y_true, Y_pred, average=None)))\n",
    "    print(\"F1: {}\".format(f1_score(Y_true, Y_pred, average=None)))"
   ]
  }
 ],
 "metadata": {
  "kernelspec": {
   "display_name": "Python 3",
   "language": "python",
   "name": "python3"
  },
  "language_info": {
   "codemirror_mode": {
    "name": "ipython",
    "version": 3
   },
   "file_extension": ".py",
   "mimetype": "text/x-python",
   "name": "python",
   "nbconvert_exporter": "python",
   "pygments_lexer": "ipython3",
   "version": "3.5.2"
  }
 },
 "nbformat": 4,
 "nbformat_minor": 2
}
